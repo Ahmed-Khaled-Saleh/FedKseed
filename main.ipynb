{
 "cells": [
  {
   "cell_type": "code",
   "execution_count": null,
   "metadata": {},
   "outputs": [],
   "source": [
    "import argparse\n",
    "import os\n",
    "import time\n",
    "import random\n",
    "import numpy as np\n",
    "import torch\n",
    "from server import Server\n",
    "from client import Client\n",
    "from utils_data.load_data import get_loaders\n"
   ]
  }
 ],
 "metadata": {
  "kernelspec": {
   "display_name": "adev",
   "language": "python",
   "name": "python3"
  },
  "language_info": {
   "name": "python",
   "version": "3.11.5"
  }
 },
 "nbformat": 4,
 "nbformat_minor": 2
}
